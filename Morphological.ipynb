{
  "nbformat": 4,
  "nbformat_minor": 0,
  "metadata": {
    "colab": {
      "provenance": []
    },
    "kernelspec": {
      "name": "python3",
      "display_name": "Python 3"
    },
    "language_info": {
      "name": "python"
    }
  },
  "cells": [
    {
      "cell_type": "markdown",
      "source": [
        "**EROSION**\n",
        "\n",
        "* Erosion shrinks objects in a binary image by removing boundary pixel\n",
        "\n",
        "* Small details and thin structures may disappear if the structuring element is larger than them."
      ],
      "metadata": {
        "id": "KuwtLZpPm24D"
      }
    },
    {
      "cell_type": "code",
      "execution_count": 1,
      "metadata": {
        "colab": {
          "base_uri": "https://localhost:8080/"
        },
        "id": "7ZiBS5MEdefn",
        "outputId": "2e044ebe-5086-4535-c3f1-4cb4087afbf5"
      },
      "outputs": [
        {
          "output_type": "stream",
          "name": "stdout",
          "text": [
            "Original Binary Image:\n",
            " [[0 1 1 0 0]\n",
            " [1 1 1 1 0]\n",
            " [0 1 1 1 0]\n",
            " [0 1 0 1 0]\n",
            " [0 0 1 0 0]]\n",
            "\n",
            "Structuring Element (SE):\n",
            " [[0 1 0]\n",
            " [1 1 1]\n",
            " [0 1 0]]\n",
            "\n",
            "Eroded Image:\n",
            " [[0 0 0 0 0]\n",
            " [0 1 1 0 0]\n",
            " [0 0 0 0 0]\n",
            " [0 0 0 0 0]\n",
            " [0 0 0 0 0]]\n"
          ]
        }
      ],
      "source": [
        "import cv2\n",
        "import numpy as np\n",
        "\n",
        "# 1. Create a small binary image (5x5 for clarity)\n",
        "image = np.array([\n",
        "    [0,1,1,0,0],\n",
        "    [1,1,1,1,0],\n",
        "    [0,1,1,1,0],\n",
        "    [0,1,0,1,0],\n",
        "    [0,0,1,0,0]\n",
        "], dtype=np.uint8)\n",
        "\n",
        "print(\"Original Binary Image:\\n\", image)\n",
        "\n",
        "# 2. Define a cross-shaped structuring element (3x3)\n",
        "kernel = np.array([\n",
        "    [0,1,0],\n",
        "    [1,1,1],\n",
        "    [0,1,0]\n",
        "], dtype=np.uint8)\n",
        "\n",
        "print(\"\\nStructuring Element (SE):\\n\", kernel)\n",
        "\n",
        "# 3. Apply erosion\n",
        "eroded = cv2.erode(image, kernel, iterations=1)\n",
        "\n",
        "print(\"\\nEroded Image:\\n\", eroded)\n"
      ]
    },
    {
      "cell_type": "code",
      "source": [
        "import matplotlib.pyplot as plt\n",
        "\n",
        "plt.subplot(1,3,1)\n",
        "plt.title(\"Original\")\n",
        "plt.imshow(image, cmap='gray')\n",
        "\n",
        "plt.subplot(1,3,2)\n",
        "plt.title(\"Structuring Element\")\n",
        "plt.imshow(kernel, cmap='gray')\n",
        "\n",
        "plt.subplot(1,3,3)\n",
        "plt.title(\"Eroded\")\n",
        "plt.imshow(eroded, cmap='gray')\n",
        "\n",
        "plt.show()\n",
        "\n"
      ],
      "metadata": {
        "colab": {
          "base_uri": "https://localhost:8080/",
          "height": 228
        },
        "id": "0GIQMWDde2xI",
        "outputId": "7fbbcd05-faab-482c-88d9-e43c5603e449"
      },
      "execution_count": 2,
      "outputs": [
        {
          "output_type": "display_data",
          "data": {
            "text/plain": [
              "<Figure size 640x480 with 3 Axes>"
            ],
            "image/png": "[encoded data removed]"
          },
          "metadata": {}
        }
      ]
    },
    {
      "cell_type": "markdown",
      "source": [
        "**Dilation**\n",
        "\n",
        "* Dilation expands objects by adding pixels to the boundaries.\n",
        "\n",
        "* It helps fill small holes and connect nearby objects."
      ],
      "metadata": {
        "id": "sK1IvqSPm7qH"
      }
    },
    {
      "cell_type": "code",
      "source": [
        "import cv2\n",
        "import numpy as np\n",
        "\n",
        "# 1. Create a small binary image (5x5 for clarity)\n",
        "image = np.array([\n",
        "    [0,1,1,0,0],\n",
        "    [1,1,1,1,0],\n",
        "    [0,1,1,1,0],\n",
        "    [0,1,0,1,0],\n",
        "    [0,0,1,0,0]\n",
        "], dtype=np.uint8)\n",
        "\n",
        "print(\"Original Binary Image:\\n\", image)\n",
        "\n",
        "# 2. Define a cross-shaped structuring element (3x3)\n",
        "kernel = np.array([\n",
        "    [0,1,0],\n",
        "    [1,1,1],\n",
        "    [0,1,0]\n",
        "], dtype=np.uint8)\n",
        "\n",
        "print(\"\\nStructuring Element (SE):\\n\", kernel)\n",
        "\n",
        "# 3. Apply erosion\n",
        "eroded = cv2.dilate(image, kernel, iterations=1)\n",
        "\n",
        "print(\"\\nEroded Image:\\n\", eroded)\n"
      ],
      "metadata": {
        "colab": {
          "base_uri": "https://localhost:8080/"
        },
        "id": "B9Fwy8OUm_Ip",
        "outputId": "25437d66-6025-4bbf-8e5a-3c76af2b19f9"
      },
      "execution_count": 3,
      "outputs": [
        {
          "output_type": "stream",
          "name": "stdout",
          "text": [
            "Original Binary Image:\n",
            " [[0 1 1 0 0]\n",
            " [1 1 1 1 0]\n",
            " [0 1 1 1 0]\n",
            " [0 1 0 1 0]\n",
            " [0 0 1 0 0]]\n",
            "\n",
            "Structuring Element (SE):\n",
            " [[0 1 0]\n",
            " [1 1 1]\n",
            " [0 1 0]]\n",
            "\n",
            "Eroded Image:\n",
            " [[1 1 1 1 0]\n",
            " [1 1 1 1 1]\n",
            " [1 1 1 1 1]\n",
            " [1 1 1 1 1]\n",
            " [0 1 1 1 0]]\n"
          ]
        }
      ]
    },
    {
      "cell_type": "markdown",
      "source": [
        "**OPEN ( Erosion -> Dilation )**"
      ],
      "metadata": {
        "id": "o-7hdEcRrOzN"
      }
    },
    {
      "cell_type": "code",
      "source": [
        "import cv2\n",
        "import numpy as np\n",
        "import matplotlib.pyplot as plt\n",
        "\n",
        "# Binary Image (toy example)\n",
        "image = np.array([[0,0,0,0,0],\n",
        "                  [0,1,1,1,0],\n",
        "                  [0,1,1,1,0],\n",
        "                  [0,0,1,0,0],\n",
        "                  [0,0,0,0,0]], dtype=np.uint8)\n",
        "\n",
        "# Structuring Element (cross shaped)\n",
        "kernel = np.array([[0,1,0],\n",
        "                   [1,1,1],\n",
        "                   [0,1,0]], dtype=np.uint8)\n",
        "\n",
        "# Apply Opening\n",
        "opened = cv2.morphologyEx(image, cv2.MORPH_OPEN, kernel)\n",
        "\n",
        "# Print Matrices\n",
        "print(\"Original Image:\\n\", image)\n",
        "print(\"\\nStructuring Element:\\n\", kernel)\n",
        "print(\"\\nAfter Opening:\\n\", opened)\n",
        "\n",
        "# Plotting\n",
        "plt.figure(figsize=(10,3))\n",
        "plt.subplot(1,3,1); plt.imshow(image, cmap='gray'); plt.title(\"Original\")\n",
        "plt.subplot(1,3,2); plt.imshow(kernel, cmap='gray'); plt.title(\"Structuring Element\")\n",
        "plt.subplot(1,3,3); plt.imshow(opened, cmap='gray'); plt.title(\"After Opening\")\n",
        "plt.show()\n"
      ],
      "metadata": {
        "colab": {
          "base_uri": "https://localhost:8080/",
          "height": 622
        },
        "id": "Ey3r0oEarUSe",
        "outputId": "28aaf265-7f59-4bfe-d5dc-330a8fd48084"
      },
      "execution_count": 7,
      "outputs": [
        {
          "output_type": "stream",
          "name": "stdout",
          "text": [
            "Original Image:\n",
            " [[0 0 0 0 0]\n",
            " [0 1 1 1 0]\n",
            " [0 1 1 1 0]\n",
            " [0 0 1 0 0]\n",
            " [0 0 0 0 0]]\n",
            "\n",
            "Structuring Element:\n",
            " [[0 1 0]\n",
            " [1 1 1]\n",
            " [0 1 0]]\n",
            "\n",
            "After Opening:\n",
            " [[0 0 0 0 0]\n",
            " [0 0 1 0 0]\n",
            " [0 1 1 1 0]\n",
            " [0 0 1 0 0]\n",
            " [0 0 0 0 0]]\n"
          ]
        },
        {
          "output_type": "display_data",
          "data": {
            "text/plain": [
              "<Figure size 1000x300 with 3 Axes>"
            ],
            "image/png": "[encoded data removed]"
          },
          "metadata": {}
        }
      ]
    },
    {
      "cell_type": "markdown",
      "source": [
        "**CLOSE ( Dilation -> Erosion )**"
      ],
      "metadata": {
        "id": "O2edKgubr1jU"
      }
    },
    {
      "cell_type": "code",
      "source": [
        "import cv2\n",
        "import numpy as np\n",
        "import matplotlib.pyplot as plt\n",
        "\n",
        "# Binary Image (toy example)\n",
        "image = np.array([[0,0,0,0,0],\n",
        "                  [0,1,1,1,0],\n",
        "                  [0,1,1,1,0],\n",
        "                  [0,0,1,0,0],\n",
        "                  [0,0,0,0,0]], dtype=np.uint8)\n",
        "\n",
        "# Structuring Element (cross shaped)\n",
        "kernel = np.array([[0,1,0],\n",
        "                   [1,1,1],\n",
        "                   [0,1,0]], dtype=np.uint8)\n",
        "\n",
        "# Apply Closing\n",
        "closed = cv2.morphologyEx(image, cv2.MORPH_CLOSE, kernel)\n",
        "\n",
        "# Print Matrices\n",
        "print(\"Original Image:\\n\", image)\n",
        "print(\"\\nStructuring Element:\\n\", kernel)\n",
        "print(\"\\nAfter Closing:\\n\", closed)\n",
        "\n",
        "# Plotting\n",
        "plt.figure(figsize=(10,3))\n",
        "plt.subplot(1,3,1); plt.imshow(image, cmap='gray'); plt.title(\"Original\")\n",
        "plt.subplot(1,3,2); plt.imshow(kernel, cmap='gray'); plt.title(\"Structuring Element\")\n",
        "plt.subplot(1,3,3); plt.imshow(closed, cmap='gray'); plt.title(\"After Closing\")\n",
        "plt.show()\n"
      ],
      "metadata": {
        "colab": {
          "base_uri": "https://localhost:8080/",
          "height": 622
        },
        "id": "nsIuJdhsr7r7",
        "outputId": "bc9bb305-2d50-4586-b445-4e7374db32cb"
      },
      "execution_count": 8,
      "outputs": [
        {
          "output_type": "stream",
          "name": "stdout",
          "text": [
            "Original Image:\n",
            " [[0 0 0 0 0]\n",
            " [0 1 1 1 0]\n",
            " [0 1 1 1 0]\n",
            " [0 0 1 0 0]\n",
            " [0 0 0 0 0]]\n",
            "\n",
            "Structuring Element:\n",
            " [[0 1 0]\n",
            " [1 1 1]\n",
            " [0 1 0]]\n",
            "\n",
            "After Closing:\n",
            " [[0 0 1 0 0]\n",
            " [0 1 1 1 0]\n",
            " [0 1 1 1 0]\n",
            " [0 0 1 0 0]\n",
            " [0 0 0 0 0]]\n"
          ]
        },
        {
          "output_type": "display_data",
          "data": {
            "text/plain": [
              "<Figure size 1000x300 with 3 Axes>"
            ],
            "image/png": "[encoded data removed]"
          },
          "metadata": {}
        }
      ]
    },
    {
      "cell_type": "markdown",
      "source": [
        "**Boundary Extraction**"
      ],
      "metadata": {
        "id": "dWPtVki07EiB"
      }
    },
    {
      "cell_type": "code",
      "source": [
        "import cv2\n",
        "import numpy as np\n",
        "import matplotlib.pyplot as plt\n",
        "\n",
        "# Binary Image (toy example)\n",
        "image = np.array([[0,0,0,0,0],\n",
        "                  [0,1,1,1,0],\n",
        "                  [0,1,1,1,0],\n",
        "                  [0,0,1,0,0],\n",
        "                  [0,0,0,0,0]], dtype=np.uint8)\n",
        "\n",
        "# Structuring Element (3x3 square)\n",
        "kernel = np.array([[0,1,0],\n",
        "                   [1,1,1],\n",
        "                   [0,1,0]], dtype=np.uint8)\n",
        "\n",
        "# Apply Erosion\n",
        "eroded = cv2.erode(image, kernel, iterations=1)\n",
        "\n",
        "# Boundary = Original - Eroded\n",
        "boundary = image - eroded\n",
        "\n",
        "# Print Matrices\n",
        "print(\"Original Image:\\n\", image)\n",
        "print(\"\\nStructuring Element:\\n\", kernel)\n",
        "print(\"\\nEroded Image:\\n\", eroded)\n",
        "print(\"\\nBoundary Extracted:\\n\", boundary)\n",
        "\n",
        "# Plotting\n",
        "plt.figure(figsize=(12,3))\n",
        "plt.subplot(1,4,1); plt.imshow(image, cmap='gray'); plt.title(\"Original\")\n",
        "plt.subplot(1,4,2); plt.imshow(kernel, cmap='gray'); plt.title(\"Structuring Element\")\n",
        "plt.subplot(1,4,3); plt.imshow(eroded, cmap='gray'); plt.title(\"Eroded\")\n",
        "plt.subplot(1,4,4); plt.imshow(boundary, cmap='gray'); plt.title(\"Boundary\")\n",
        "plt.show()\n"
      ],
      "metadata": {
        "colab": {
          "base_uri": "https://localhost:8080/",
          "height": 719
        },
        "id": "_uUz8xsv7IhG",
        "outputId": "17b6cf01-090a-4295-dc04-a1d45d0ba627"
      },
      "execution_count": 10,
      "outputs": [
        {
          "output_type": "stream",
          "name": "stdout",
          "text": [
            "Original Image:\n",
            " [[0 0 0 0 0]\n",
            " [0 1 1 1 0]\n",
            " [0 1 1 1 0]\n",
            " [0 0 1 0 0]\n",
            " [0 0 0 0 0]]\n",
            "\n",
            "Structuring Element:\n",
            " [[0 1 0]\n",
            " [1 1 1]\n",
            " [0 1 0]]\n",
            "\n",
            "Eroded Image:\n",
            " [[0 0 0 0 0]\n",
            " [0 0 0 0 0]\n",
            " [0 0 1 0 0]\n",
            " [0 0 0 0 0]\n",
            " [0 0 0 0 0]]\n",
            "\n",
            "Boundary Extracted:\n",
            " [[0 0 0 0 0]\n",
            " [0 1 1 1 0]\n",
            " [0 1 0 1 0]\n",
            " [0 0 1 0 0]\n",
            " [0 0 0 0 0]]\n"
          ]
        },
        {
          "output_type": "display_data",
          "data": {
            "text/plain": [
              "<Figure size 1200x300 with 4 Axes>"
            ],
            "image/png": "[encoded data removed]"
          },
          "metadata": {}
        }
      ]
    },
    {
      "cell_type": "markdown",
      "source": [
        "**REGION FILLING**"
      ],
      "metadata": {
        "id": "IXVW1LgKC_PL"
      }
    },
    {
      "cell_type": "code",
      "source": [
        "import numpy as np\n",
        "import cv2\n",
        "\n",
        "# Helper to print binary matrix\n",
        "def print_bin(mat, name=None):\n",
        "    if name:\n",
        "        print(f\"\\n{name}:\")\n",
        "    for row in mat:\n",
        "        print(\" \".join(str(int(x)) for x in row))\n",
        "\n",
        "# Example binary image (object=1, background=0, hole inside)\n",
        "image = np.array([\n",
        "    [0,0,0,0,0,0,0,0],\n",
        "    [0,1,1,1,1,1,0,0],\n",
        "    [0,1,0,0,0,1,0,0],\n",
        "    [0,1,0,0,0,1,0,0],\n",
        "    [0,1,1,1,1,1,0,0],\n",
        "    [0,0,0,0,0,0,0,0]\n",
        "], dtype=np.uint8)\n",
        "\n",
        "# Structuring element (4-connected cross)\n",
        "kernel = np.array([[0,1,0],\n",
        "                   [1,1,1],\n",
        "                   [0,1,0]], dtype=np.uint8)\n",
        "\n",
        "# Seed point (inside the hole)\n",
        "seed = np.zeros_like(image, dtype=np.uint8)\n",
        "seed[2,2] = 1\n",
        "\n",
        "# Print initial setup\n",
        "print_bin(image, \"Original Image\")\n",
        "print_bin(seed, \"Initial Seed (X0)\")\n",
        "print_bin(kernel, \"Structuring Element (SE)\")\n",
        "\n",
        "X = seed.copy()\n",
        "iteration = 0\n",
        "max_iter = 20\n",
        "\n",
        "while True:\n",
        "    iteration += 1\n",
        "    # Dilate and intersect with background (image complement)\n",
        "    X_next = cv2.dilate(X, kernel, iterations=1)\n",
        "    X_next = np.logical_and(X_next, 1 - image).astype(np.uint8)\n",
        "\n",
        "    print(f\"\\n--- Iteration {iteration} ---\")\n",
        "    print_bin(X_next, \"New Region (X_next)\")\n",
        "    print_bin(np.bitwise_or(image, X_next), \"Image | X_next (partial fill)\")\n",
        "\n",
        "    if np.array_equal(X, X_next) or iteration >= max_iter:\n",
        "        print(\"\\nConverged!\" if np.array_equal(X, X_next) else \"\\nStopped at max iterations.\")\n",
        "        break\n",
        "    X = X_next.copy()\n",
        "\n",
        "# Final filled image\n",
        "final_filled = np.bitwise_or(image, X)\n",
        "print_bin(X, \"Final Grown Region X\")\n",
        "print_bin(final_filled, \"Final Filled Image\")\n"
      ],
      "metadata": {
        "colab": {
          "base_uri": "https://localhost:8080/"
        },
        "id": "4TW7dzAGDCZV",
        "outputId": "5924c070-2428-4293-fec4-7a16da24663d"
      },
      "execution_count": 11,
      "outputs": [
        {
          "output_type": "stream",
          "name": "stdout",
          "text": [
            "\n",
            "Original Image:\n",
            "0 0 0 0 0 0 0 0\n",
            "0 1 1 1 1 1 0 0\n",
            "0 1 0 0 0 1 0 0\n",
            "0 1 0 0 0 1 0 0\n",
            "0 1 1 1 1 1 0 0\n",
            "0 0 0 0 0 0 0 0\n",
            "\n",
            "Initial Seed (X0):\n",
            "0 0 0 0 0 0 0 0\n",
            "0 0 0 0 0 0 0 0\n",
            "0 0 1 0 0 0 0 0\n",
            "0 0 0 0 0 0 0 0\n",
            "0 0 0 0 0 0 0 0\n",
            "0 0 0 0 0 0 0 0\n",
            "\n",
            "Structuring Element (SE):\n",
            "0 1 0\n",
            "1 1 1\n",
            "0 1 0\n",
            "\n",
            "--- Iteration 1 ---\n",
            "\n",
            "New Region (X_next):\n",
            "0 0 0 0 0 0 0 0\n",
            "0 0 0 0 0 0 0 0\n",
            "0 0 1 1 0 0 0 0\n",
            "0 0 1 0 0 0 0 0\n",
            "0 0 0 0 0 0 0 0\n",
            "0 0 0 0 0 0 0 0\n",
            "\n",
            "Image | X_next (partial fill):\n",
            "0 0 0 0 0 0 0 0\n",
            "0 1 1 1 1 1 0 0\n",
            "0 1 1 1 0 1 0 0\n",
            "0 1 1 0 0 1 0 0\n",
            "0 1 1 1 1 1 0 0\n",
            "0 0 0 0 0 0 0 0\n",
            "\n",
            "--- Iteration 2 ---\n",
            "\n",
            "New Region (X_next):\n",
            "0 0 0 0 0 0 0 0\n",
            "0 0 0 0 0 0 0 0\n",
            "0 0 1 1 1 0 0 0\n",
            "0 0 1 1 0 0 0 0\n",
            "0 0 0 0 0 0 0 0\n",
            "0 0 0 0 0 0 0 0\n",
            "\n",
            "Image | X_next (partial fill):\n",
            "0 0 0 0 0 0 0 0\n",
            "0 1 1 1 1 1 0 0\n",
            "0 1 1 1 1 1 0 0\n",
            "0 1 1 1 0 1 0 0\n",
            "0 1 1 1 1 1 0 0\n",
            "0 0 0 0 0 0 0 0\n",
            "\n",
            "--- Iteration 3 ---\n",
            "\n",
            "New Region (X_next):\n",
            "0 0 0 0 0 0 0 0\n",
            "0 0 0 0 0 0 0 0\n",
            "0 0 1 1 1 0 0 0\n",
            "0 0 1 1 1 0 0 0\n",
            "0 0 0 0 0 0 0 0\n",
            "0 0 0 0 0 0 0 0\n",
            "\n",
            "Image | X_next (partial fill):\n",
            "0 0 0 0 0 0 0 0\n",
            "0 1 1 1 1 1 0 0\n",
            "0 1 1 1 1 1 0 0\n",
            "0 1 1 1 1 1 0 0\n",
            "0 1 1 1 1 1 0 0\n",
            "0 0 0 0 0 0 0 0\n",
            "\n",
            "--- Iteration 4 ---\n",
            "\n",
            "New Region (X_next):\n",
            "0 0 0 0 0 0 0 0\n",
            "0 0 0 0 0 0 0 0\n",
            "0 0 1 1 1 0 0 0\n",
            "0 0 1 1 1 0 0 0\n",
            "0 0 0 0 0 0 0 0\n",
            "0 0 0 0 0 0 0 0\n",
            "\n",
            "Image | X_next (partial fill):\n",
            "0 0 0 0 0 0 0 0\n",
            "0 1 1 1 1 1 0 0\n",
            "0 1 1 1 1 1 0 0\n",
            "0 1 1 1 1 1 0 0\n",
            "0 1 1 1 1 1 0 0\n",
            "0 0 0 0 0 0 0 0\n",
            "\n",
            "Converged!\n",
            "\n",
            "Final Grown Region X:\n",
            "0 0 0 0 0 0 0 0\n",
            "0 0 0 0 0 0 0 0\n",
            "0 0 1 1 1 0 0 0\n",
            "0 0 1 1 1 0 0 0\n",
            "0 0 0 0 0 0 0 0\n",
            "0 0 0 0 0 0 0 0\n",
            "\n",
            "Final Filled Image:\n",
            "0 0 0 0 0 0 0 0\n",
            "0 1 1 1 1 1 0 0\n",
            "0 1 1 1 1 1 0 0\n",
            "0 1 1 1 1 1 0 0\n",
            "0 1 1 1 1 1 0 0\n",
            "0 0 0 0 0 0 0 0\n"
          ]
        }
      ]
    }
  ]
}